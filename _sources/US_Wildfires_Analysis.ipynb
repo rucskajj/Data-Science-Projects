{
 "cells": [
  {
   "cell_type": "markdown",
   "id": "671e8c0d-86c6-435a-98af-fd37a8746329",
   "metadata": {},
   "source": [
    "# The increasing threat of wildfires in the U.S.A.\n",
    "by Joey Rucska\n",
    "\n",
    "January 2023\n",
    "\n",
    "One of the most visible and dramatic outcomes of climate change in the United States is the growing frequency of large wildfires. The west coast region and Alaska are particularly susceptible, and in recent years there have been several dramatic events where smoke turned entire skiesorange and opaque, like in the image below. The dangers of wildfires are obvious. They threaten infrastructure, ecosystems, and human lives. Understanding how wildfires will look in the future is a crucial part of mitigating their impacts.\n",
    "\n",
    "On this webpage I present an analysis of a publicly available [dataset](https://www.kaggle.com/datasets/behroozsohrabi/us-wildfire-records-6th-edition) of 2.3 million wildfires within the U.S.A. between 1992 and 2020. I show that the occurence of fires is cyclical--oscillating between relatively heavy and low fire abundances with a period of 2-3 years. Underlying the oscillations is an increasing trend in the typical fire size and the total annual surface area affected by fires. Approximately 190,000 additional acres per year are affected by fires, on average. Large fires are becoming more frequent quicker than smaller fires. During years of peak activity between 2015-2020, there was nearly double the total acreage affected by large fires when compared to the average over the 1992-2020 period. Lastly, a spatial map of wildfire activity demonstrates that the western coast of the conintental U.S. and Alaska are more suspectible to wildfires than other regions.\n",
    "\n",
    "The Jupyter Notebook for this project is available on [Github](https://github.com/rucskajj/Data-Science-Projects/tree/main/USWildfires00-20).\n",
    "\n",
    "<img src=\"https://live.staticflickr.com/65535/50324593222_7432c54dce_b.jpg\" alt=\"The Day The Sun Didn't Rise | Christopher Michel\" width=\"700\" />\n",
    "\n",
    "\"The Day The Sun Didn't Rise\" by Christopher Michel, via [Flickr](https://flic.kr/p/2jEZMCE), reproduced without alterations under Creative Commons License ([CC BY-NC-ND 2.0](https://creativecommons.org/licenses/by-nc-nd/2.0/)). All right belongs to the artist."
   ]
  },
  {
   "cell_type": "markdown",
   "id": "c207a77b-42e1-4cc9-9f20-1f6b9893c4d3",
   "metadata": {
    "tags": []
   },
   "source": [
    "## Overview of the dataset\n",
    "\n",
    "Each entry in the data set includes the date the fire was discovered, the size of the fire damage in acres, the [letter class](https://www.nwcg.gov/term/glossary/size-class-of-fire) of the size of the fire (A-G), the cause of the fire, and the approximate latitude and longitude of the fire, among several other things. \n",
    "\n",
    "Looking at the distribution of all fire sizes from 1992-2020, plotted below, we see there are many entries for fires < 10 acres. The distribution at this small size end features strong peaks that are most definitely as result of manual rounding to convenient, integer fractions (e.g. 1 acre, 1/2, 1/4, 2, 3, etc.). Thus, **for the rest of this analysis, I am only going to look at the fires above 100 acres (or class D)**, to focus on the fires that are capable of doing the most damage, or potentially growing into catastrophic fires if they are not controlled in time.\n",
    "\n",
    "In the below figure, the region bounded by the dotted lines in the left panel (fires > 100 acres) is enlarged in the right panel. The fire class letter boundaries are also shown the right panel.\n",
    "\n",
    "Note, the data on both axes are presented in logarithmic spacing. The high-end fire size distribution is exponential: there are significantly more 100-acre fires than 100,000-acre fires."
   ]
  },
  {
   "cell_type": "code",
   "execution_count": 1,
   "id": "e51943c3",
   "metadata": {
    "jupyter": {
     "source_hidden": true
    },
    "tags": [
     "hide-input"
    ]
   },
   "outputs": [],
   "source": [
    "import pandas as pd\n",
    "import numpy as np\n",
    "import matplotlib.pyplot as plt\n",
    "from mpl_toolkits.basemap import Basemap\n",
    "import plotting_routines as pltrs\n",
    "from IPython.display import display\n",
    "import statsmodels.api as sm"
   ]
  },
  {
   "cell_type": "code",
   "execution_count": null,
   "id": "abc710fe",
   "metadata": {
    "jupyter": {
     "source_hidden": true
    },
    "tags": [
     "hide-input",
     "hide_input"
    ]
   },
   "outputs": [],
   "source": [
    "df_dir = \"./pandas-dfs/\"\n",
    "df_filename = \"fireyear-to-lat-long.pkl\"\n",
    "df = pd.read_pickle(df_dir+df_filename)\n",
    "#print(df.head()) # Ordered by Discovery Date"
   ]
  },
  {
   "cell_type": "code",
   "execution_count": null,
   "id": "c630f571",
   "metadata": {
    "jupyter": {
     "source_hidden": true
    },
    "tags": [
     "hide-input"
    ]
   },
   "outputs": [],
   "source": [
    "df_lrg = df.loc[(df['FIRE_SIZE'] >= 100), ['NWCG_GENERAL_CAUSE','FIRE_YEAR','FIRE_SIZE',\n",
    "                                           'DISCOVERY_DOY', 'DISCOVERY_TIME',\n",
    "                                           'FIRE_SIZE_CLASS', 'LATITUDE', 'LONGITUDE']]\n",
    "\n",
    "fig, axs = plt.subplots(1,2, figsize=[7,3])\n",
    "plt.subplots_adjust(wspace=0.05)\n",
    "\n",
    "ax = axs[0]\n",
    "ax.vlines([100], 50, 20000, colors='k', ls='--', alpha=0.5, zorder=1)\n",
    "ax.hlines([20000], 10**(2),10**(5), colors='k', ls='--', alpha=0.5, zorder=1)\n",
    "ax.hist(df['FIRE_SIZE'], bins=np.logspace(-2,5, 71),\n",
    "       color=\"#c96a16\", zorder=0)\n",
    "ax.set_xscale('log'); ax.set_yscale('log');\n",
    "ax.set_xlim([10**(-2),10**(5)])\n",
    "ax.set_ylim([50,1000000])\n",
    "\n",
    "xticks = ax.xaxis.get_major_ticks()\n",
    "xticks[-2].label1.set_visible(False)\n",
    "\n",
    "ax.set_xlabel(\"Fire size [acres]\", fontsize=12)\n",
    "ax.set_ylabel(\"Count\", fontsize=12)\n",
    "ax.set_title(\"Distribution of fire sizes\")\n",
    "\n",
    "ax = axs[1]\n",
    "ax.vlines([300,1000,5000], 50, 20000, colors='k', ls='--', alpha=0.5, zorder=0)\n",
    "ax.hist(df_lrg['FIRE_SIZE'], bins=np.logspace(2,5, 31), zorder=1, color=\"#c96a16\")\n",
    "\n",
    "ax.text(0.06, 0.93, \"D\", fontsize=12, transform=ax.transAxes)\n",
    "ax.text(0.23, 0.93, \"E\", fontsize=12, transform=ax.transAxes)\n",
    "ax.text(0.43, 0.93, \"F\", fontsize=12, transform=ax.transAxes)\n",
    "ax.text(0.75, 0.93, \"G\", fontsize=12, transform=ax.transAxes)\n",
    "\n",
    "\n",
    "ax.yaxis.set_label_position(\"right\")\n",
    "ax.yaxis.tick_right()\n",
    "\n",
    "ax.set_xscale('log'); ax.set_yscale('log');\n",
    "ax.set_xlim([10**(2),10**(5)])\n",
    "ax.set_ylim([50, 20000])\n",
    "\n",
    "ax.set_xlabel(\"Fire size [acres]\", fontsize=12)\n",
    "ax.set_ylabel(\"Count\", fontsize=12)\n",
    "ax.set_title(\"Distribution of largest fire sizes\")\n",
    "\n",
    "plt.show()"
   ]
  },
  {
   "cell_type": "markdown",
   "id": "e456ec6c-f526-4e99-9386-319e9b17db8f",
   "metadata": {},
   "source": [
    "One might assume wildfires are more likely to start during the hotter part of the day, and the below plot demonstrates this. Both distributions (still representing the full 1992-2020 period) peak strongly near 3 in the afternoon."
   ]
  },
  {
   "cell_type": "code",
   "execution_count": null,
   "id": "403c4719",
   "metadata": {
    "jupyter": {
     "source_hidden": true
    },
    "tags": [
     "hide-input"
    ]
   },
   "outputs": [],
   "source": [
    "disctime = df['DISCOVERY_TIME'].replace('', np.nan).dropna().astype('int64')\n",
    "disctime_lf = df_lrg['DISCOVERY_TIME'].replace('', np.nan).dropna().astype('int64')\n",
    "\n",
    "fig, ax = plt.subplots(figsize=[5,3.5])\n",
    "\n",
    "norm = 28 # to get bin values in number of fires per year\n",
    "hist, bin_edges = np.histogram(disctime, bins=np.linspace(0,2400,25))\n",
    "ax.stairs(hist/norm, bin_edges, lw=2, color='C0')\n",
    "ax.set_ylabel(\"Count per year (all fires)\", fontsize=12, color='C0')\n",
    "\n",
    "ax2=ax.twinx()\n",
    "hist, bin_edges = np.histogram(disctime_lf, bins=np.linspace(0,2400,25))\n",
    "ax2.stairs(hist/norm, bin_edges, lw=2, color='C3')\n",
    "ax2.set_ylabel(\"Count per year (large fires)\", fontsize=12, color='C3')\n",
    "\n",
    "for be in bin_edges[3:-1:3]:\n",
    "    ax2.vlines(be, 0, 230, color='k', ls='--', alpha=0.2, zorder=1)\n",
    "ax2.set_ylim([0,230])\n",
    "\n",
    "ax.set_xlim(0,2400)\n",
    "ax.set_xticks([0,600,1200,1800,2400])\n",
    "ax.set_xticklabels([\"0:00\",\"6:00\",\"12:00\",\"18:00\",\"24:00\"])\n",
    "ax.set_xlabel('Time of day', fontsize=12)\n",
    "ax.set_title('Distribution of number of fires over time of day')\n",
    "\n",
    "plt.show()"
   ]
  },
  {
   "cell_type": "markdown",
   "id": "13ac033b-09d5-49d2-b841-f7bfebcd3c2a",
   "metadata": {},
   "source": [
    "There is also a distinct annual fire season--or perhaps two: in early spring from mid-February to the end of May, and then the beginning of June to the end of August. "
   ]
  },
  {
   "cell_type": "code",
   "execution_count": null,
   "id": "4ec264a8-761e-42a8-99df-47852e1e93ac",
   "metadata": {
    "jupyter": {
     "source_hidden": true
    },
    "tags": [
     "hide-input"
    ]
   },
   "outputs": [],
   "source": [
    "discday = df['DISCOVERY_DOY'].replace('', np.nan).dropna().astype('int64')\n",
    "discday_lf = df_lrg['DISCOVERY_DOY'].replace('', np.nan).dropna().astype('int64')\n",
    "\n",
    "days_in_months = [31, 29, 31, 30, 31, 30, 31, 31, 30, 31, 30, 31] # Setting Feb = 29 days\n",
    "month_bins = np.concatenate([[0],np.cumsum(days_in_months)])\n",
    "month_ticks = (0.5*(month_bins[1::]-month_bins[0:-1:])+month_bins[0:-1:])\n",
    "week_bins = np.arange(0,372,7)\n",
    "week_bins[-1] = 366\n",
    "\n",
    "fig, ax = plt.subplots(figsize=[5,3.5])\n",
    "\n",
    "norm = 28 # to get bin values in number of fires per year\n",
    "hist, bin_edges = np.histogram(discday, bins=week_bins)\n",
    "ax.stairs(hist/norm, bin_edges, lw=2, color='C0')\n",
    "ax.set_ylabel(\"Count per year (all fires)\", fontsize=12, color='C0')\n",
    "\n",
    "ax2=ax.twinx()\n",
    "hist, bin_edges = np.histogram(discday_lf, bins=week_bins)\n",
    "ax2.stairs(hist/norm, bin_edges, lw=2, color='C3')\n",
    "ax2.set_ylabel(\"Count per year (large fires)\", fontsize=12, color='C3')\n",
    "\n",
    "for mb in month_bins[1:-1]:\n",
    "    ax2.vlines(mb, 0, 100, color='k', ls='-', alpha=0.2, zorder=1)\n",
    "ax2.set_ylim([0,100])\n",
    "\n",
    "ax.set_xlim(0,366)\n",
    "ax.set_xticks(month_ticks)\n",
    "ax.set_xticklabels([\"Jan.\",\"Feb.\",\"Mar.\",\"Apr.\",\"May\",\"Jun\",\"Jul.\",\"Aug.\",\"Sep.\",\"Oct.\",\"Nov.\",\"Dec.\"])\n",
    "ax.set_xlabel('Time of year', fontsize=12)\n",
    "ax.set_title('Distribution of number of fires over time of year')\n",
    "\n",
    "plt.show()"
   ]
  },
  {
   "cell_type": "markdown",
   "id": "db625494-81d7-4800-a4ad-575f0b1d596f",
   "metadata": {},
   "source": [
    "According to this dataset, natural causes (lightning strikes, probably) are the main cause of wildfires. Unfortunately, the 2nd largest contributor is in the unknown \"missing data\" category, and alarmingly, arson is the 3rd most prominent cause, with 10,886 deliberate fires set between 1992-2020, or approximately 1 fire (above 100 acres!) per day, on average."
   ]
  },
  {
   "cell_type": "code",
   "execution_count": null,
   "id": "d36bd612",
   "metadata": {
    "jupyter": {
     "source_hidden": true
    },
    "tags": [
     "hide-input"
    ]
   },
   "outputs": [],
   "source": [
    "dfcausecounts = df_lrg['NWCG_GENERAL_CAUSE'].value_counts().to_frame()\n",
    "\n",
    "dfcausecounts.rename(columns={'NWCG_GENERAL_CAUSE': 'Counts'}, inplace=True)\n",
    "dfcausecounts['Cause of fire'] = dfcausecounts.index\n",
    "dfcausecounts = dfcausecounts[['Cause of fire','Counts']]\n",
    "\n",
    "styler = dfcausecounts.style\n",
    "styler.set_caption(\"Cause of all recorded U.S. wildfires from 1992-2020\")\n",
    "styler.hide(axis=\"index\")\n",
    "display(styler)"
   ]
  },
  {
   "cell_type": "markdown",
   "id": "f0d4a0ba-db9c-4845-9608-2dcccf6d479c",
   "metadata": {
    "tags": []
   },
   "source": [
    "## The growing strength of large wildfires\n",
    "\n",
    "The following figure shows the median, mean, total number of fires, and sum of the wildfire surface area affected over time, from 1992-2020. In these data, the cyclical, osciallatory behavior of wildfire activity is apparent. Fire presence oscillates between maxima and minimuma over the course of 2-3 year periods. Previous plots demonstrated strong daily and annual cycles in activity, which suggests these super-annual cycles are a result of some larger climate pattern that is decoupled from either annual or daily temperature fluctuations. Alarmingly, all lines with the exception of the total number of fires appear to be gradually increasing. Both the upper and lower bounds of the peaks of the oscillation increase with time. For example, from 1992-1996, the total wildfire burn oscillated between ~2 and 4 million acres per year, while the totals from 2016-2020 were between 4 and 10 million.\n",
    "\n",
    "That the number of fires (yellow) does not follow this trend suggests that larger fires are increasing in relative number. I investigate this possibility in a future figure."
   ]
  },
  {
   "cell_type": "code",
   "execution_count": null,
   "id": "f7b5ba71",
   "metadata": {
    "jupyter": {
     "source_hidden": true
    },
    "tags": [
     "hide-input"
    ]
   },
   "outputs": [],
   "source": [
    "def compute_firesize_overtime(dataframe):\n",
    "    median = dataframe.groupby(['FIRE_YEAR'])['FIRE_SIZE'].median()\n",
    "    mean = dataframe.groupby(['FIRE_YEAR'])['FIRE_SIZE'].mean()\n",
    "    summ = dataframe.groupby(['FIRE_YEAR'])['FIRE_SIZE'].sum()\n",
    "    count = dataframe.groupby(['FIRE_YEAR'])['FIRE_SIZE'].count()\n",
    "    return median, mean, summ, count\n",
    "    \n",
    "med_all, mean_all, sum_all, cnt_all = compute_firesize_overtime(df_lrg)\n",
    "pltrs.plot_firesize_overtime(med_all, mean_all, sum_all, cnt_all,\n",
    "                       \"Statistical quantities of full U.S. wildfire sample over time\")"
   ]
  },
  {
   "cell_type": "markdown",
   "id": "8f4b6169-7a4b-44b1-8066-f51cbb9018a3",
   "metadata": {},
   "source": [
    "I explore the increasing trend of fire activity more quantitatively using a linear regression analysis on the total or sum of annual surface area affected by fires. I employ a simple ordinary least squares method using the `statsmodels` package. Plots of the data, the linear fit, and the residuals are below.\n",
    "\n",
    "The model predicts a slope value of $m=0.187\\pm0.053$, where the uncertainty here is the standard error from the regression. Given the units of the y-axis, This translates to conclusion that the underlying baseline value around which wildfire activity oscillates is increasing by approximately ~190,000 affected acres per year.\n",
    "\n",
    "The $R^2$ value of the fit is 0.314, a rather small value, which is not surprising given the lack of data points clustered near the trendline. As stated before, the natural behavior of the system appears to support osciallations between periods of relatively high and low activity, with a repetition period of ~2-3 years. The residuals display a biomodal distribution with peaks near $\\pm(0.5-1)$ standard deviation. It would be beneficial to extend this dataset to include the extra two years to the current date, or find archival data from before 1992, if possible. I am personally quite curious (and worried) to know whether this increase of 190,000 acres of fires per year is compatible with recent data."
   ]
  },
  {
   "cell_type": "code",
   "execution_count": null,
   "id": "373f3ea9-a7cf-42ea-8c72-25f92733db64",
   "metadata": {
    "tags": [
     "hide-input"
    ]
   },
   "outputs": [],
   "source": [
    "years_sm = sum_all.index\n",
    "fire_sum = sum_all.values/1e6\n",
    "yr = years_sm.copy()\n",
    "# add constant term for statsmodels git\n",
    "years_sm = sm.add_constant(years_sm)\n",
    "\n",
    "# fit model with Ordinary Least Squares technique\n",
    "result = sm.OLS(fire_sum, years_sm).fit()\n",
    "fitparams = result.params\n",
    "#print(result.summary())\n",
    "\n",
    "fig, axes = plt.subplots(2,2, gridspec_kw={'width_ratios': [3, 1]}, figsize=[8,9])\n",
    "plt.subplots_adjust(wspace=0.0, hspace=0.0)\n",
    "axes[0,1].axis(\"off\")\n",
    "\n",
    "ax = axes[0,0]\n",
    "ax.plot(sum_all/1e6, '.-', ms=10, color='C4')\n",
    "ax.plot(yr, result.fittedvalues, color='k')\n",
    "ax.set_xlim([yr.min()-1, yr.max()+1])\n",
    "ax.set_ylabel(\"Sum of wildfire size [millions of acres]\", fontsize=12)\n",
    "ax.set_title(\"Linear fit to total annual wildfire damage\", fontsize=14, pad=5)\n",
    "\n",
    "ax.text(1992, 9.5,\n",
    "        \"slope: {:.3f}$\\pm${:.3f}\".format(result.params[1], result.bse[1]),\n",
    "       fontsize=12)\n",
    "\n",
    "# Residuals, in two units\n",
    "ax = axes[1,0]\n",
    "residlim = 4.5\n",
    "ax.plot(yr, result.resid,\n",
    "        '.', ms=14, color='C6')\n",
    "ax.set_xlim([yr.min()-1, yr.max()+1])\n",
    "# Units of fire sum (millions of acres)\n",
    "ax.set_ylim([-residlim, residlim])\n",
    "ax.hlines(0.0, yr.min()-1, yr.max()+1, ls='--', color='k', alpha=0.3)\n",
    "ax.set_ylabel(\"Residuals [millions of acres]\", fontsize=12)\n",
    "ax.set_xlabel(\"Year\", fontsize=12)\n",
    "\n",
    "ax2 = ax.twinx()\n",
    "# Units of standardized residuals\n",
    "ax2.set_ylim([-residlim/np.sqrt(result.mse_resid),\n",
    "              residlim/np.sqrt(result.mse_resid)])\n",
    "ax2.spines[\"left\"].set_position((\"axes\", -0.2))\n",
    "ax2.spines[\"left\"].set_visible(True)\n",
    "ax2.yaxis.set_label_position('left')\n",
    "ax2.yaxis.set_ticks_position('left')\n",
    "ax2.set_ylabel(\"Standardized residuals (units of std. dv.)\", fontsize=12)\n",
    "\n",
    "# Histogram of residuals\n",
    "ax = axes[1,1]\n",
    "bins = np.linspace(-residlim, residlim, 11)\n",
    "ax.hist(result.resid, bins=bins, color='C6',\n",
    "        orientation=\"horizontal\")\n",
    "ax.set_xticks([2,4,6])\n",
    "ax.set_yticklabels(\"\")\n",
    "ax.set_ylim([-residlim, residlim])\n",
    "ax.set_xlabel(\"Count\", fontsize=11)\n",
    "\n",
    "plt.show()"
   ]
  },
  {
   "cell_type": "markdown",
   "id": "9de1be13-5950-49ec-ba9f-07b388ab3561",
   "metadata": {},
   "source": [
    "In the below figure, the total sum of surface area affected by wildfires over time is split by the [class](https://www.nwcg.gov/term/glossary/size-class-of-fire) representing the fire size. The sum is represented as a ratio to the mean annual total fire size area over the full 1992-2020 period. Values of 1 on the vertical axis thus represent years where the total burn was close the average year, and values of 1.5 represent years where there was 50% more fire area than the average. \n",
    "\n",
    "When split by fire size class, we can see the largest > 5,000 acre G fires are experiencing a sharper increasing trend over time. Early in the trend, near 1995, the G class fires are oscillating between 25-75% of the mean, while near 2015 they oscillate between 75-175% of the mean. The trend in the D, E, and F class fires is less pronounced.\n",
    "\n",
    "It is the G class fires that do the most damage and cause evacuations of cities. That they are becoming more likely is an unsettling trend."
   ]
  },
  {
   "cell_type": "code",
   "execution_count": null,
   "id": "a4a23b50",
   "metadata": {
    "jupyter": {
     "source_hidden": true
    },
    "tags": [
     "hide-input"
    ]
   },
   "outputs": [],
   "source": [
    "fig, ax = plt.subplots(figsize=[5,4])\n",
    "\n",
    "size_classes = sorted(df_lrg['FIRE_SIZE_CLASS'].unique()) # sorted alphabetically\n",
    "\n",
    "alphas = [1.0,0.5,0.35,0.2]\n",
    "colours = ['C3', 'k', 'k', 'k']\n",
    "zorders = [1, 0, 0, 0]\n",
    "ai = 0\n",
    "for sc in np.flip(size_classes):\n",
    "    df1 = df_lrg.loc[(df_lrg['FIRE_SIZE_CLASS'] == sc),['FIRE_YEAR', 'FIRE_SIZE']]\n",
    "    sumfsize = df1.groupby(['FIRE_YEAR'])['FIRE_SIZE'].sum()\n",
    "    plt.plot(sumfsize/np.mean(sumfsize), '.-', lw=2,\n",
    "             color=colours[ai], alpha=alphas[ai], zorder=zorders[ai],\n",
    "            label=sc)\n",
    "    ai += 1\n",
    "    \n",
    "ax.hlines(1.0, sumfsize.index.min(), sumfsize.index.max(),\n",
    "              color=\"k\", ls=\"--\", alpha=0.4, zorder=0)\n",
    "    \n",
    "ax.set_xlabel(\"Year\",fontsize=12)\n",
    "#ax.set_ylabel(\"Sum of wildfire size divided by the mean\", fontsize=12)\n",
    "ax.set_title(\"Ratio of annual sum of wildfire size to the average from the full '92-'20 period\", fontsize=11, pad=10)\n",
    "ax.legend(title=\" U.S. Fire\\nSize Class\",frameon=False)\n",
    "ax.set_xlim([sumfsize.index.min(), sumfsize.index.max()])\n",
    "plt.show()"
   ]
  },
  {
   "cell_type": "markdown",
   "id": "e035202b-904b-4e8e-8e58-1145be66fb4c",
   "metadata": {},
   "source": [
    "## A look at the largest fires from 2000-2019\n",
    "\n",
    "In the following figures, I will focus on the fires between \\[2000-2009\\] and \\[2010-2019\\], to make a comparison between two decades.\n",
    "\n",
    "The below table presents the largest fires on record across these two decades, and the following map shows where they occured. The numbers beside each dot denote the rank/order of the fire in the top 10 list, with red colours representing the \\[2010-2019\\] decade and blue colours representing \\[2000-2009\\]."
   ]
  },
  {
   "cell_type": "code",
   "execution_count": null,
   "id": "ad5e82c3",
   "metadata": {
    "jupyter": {
     "source_hidden": true
    },
    "tags": [
     "hide-input"
    ]
   },
   "outputs": [],
   "source": [
    "lrgfires_00_20 = df_lrg[(df_lrg['FIRE_YEAR'] >= 2000) & (df_lrg['FIRE_YEAR'] < 2020)]\n",
    "lrgfires_00_20 = lrgfires_00_20.sort_values(by='FIRE_SIZE', ascending=False).head(n=10)\n",
    "\n",
    "lrgfires_00_20.rename(columns={'FIRE_YEAR': 'Year', 'FIRE_SIZE': 'Size',\n",
    "                              'LATITUDE': 'Latitude', 'LONGITUDE': 'Longitude'},inplace=True)\n",
    "#print(lrgfires_00_20)\n",
    "lrgfires_00_20['Size'] = lrgfires_00_20['Size'].div(1000).map('{:.1f}'.format)\n",
    "lrgfires_00_20['Latitude'] = lrgfires_00_20['Latitude'].map('{:.3f}'.format)\n",
    "lrgfires_00_20['Longitude'] = lrgfires_00_20['Longitude'].map('{:.3f}'.format)\n",
    "#lrgfires_00_20['Size'] = lrgfires_00_20['Size']\n",
    "#dfcausecounts['Cause of fire'] = dfcausecounts.index\n",
    "#dfcausecounts = dfcausecounts[['Cause of fire','Counts']]\n",
    "\n",
    "lrgfires_00_20.rename(columns={'Size': 'Size (thousands of acres)'}, inplace=True)\n",
    "styler = lrgfires_00_20[['Year','Size (thousands of acres)', 'Latitude', 'Longitude']].style\n",
    "styler.hide(axis=\"index\")\n",
    "styler.set_caption(\"Top 10 largest fires in the U.S.A from 2000 to 2019\")\n",
    "styler = display(styler.set_properties(**{\n",
    "    'text-align': 'center',\n",
    "    'white-space': 'pre-wrap',\n",
    "}))"
   ]
  },
  {
   "cell_type": "code",
   "execution_count": null,
   "id": "65aba997",
   "metadata": {
    "jupyter": {
     "source_hidden": true
    },
    "tags": [
     "hide-input"
    ]
   },
   "outputs": [],
   "source": [
    "fig, ax = plt.subplots()\n",
    "\n",
    "m = Basemap(width=8000000,height=6500000,projection='lcc',\n",
    "            resolution='l',lat_0=50,lon_0=-107.)\n",
    "m.shadedrelief()\n",
    "m.drawcountries()\n",
    "m.drawstates(color='0.5')\n",
    "\n",
    "x, y = m(lrgfires_00_20['Longitude'], lrgfires_00_20['Latitude'])\n",
    "\n",
    "ax.plot(x, y, 'ok', ms=2)\n",
    "\n",
    "cnti = 0\n",
    "for i in lrgfires_00_20.index:\n",
    "    adjx = 0.0; adjy = 0.0;\n",
    "      \n",
    "    if(i == 1412216):   # 4\n",
    "        adjx = 30000; adjy = -100000;\n",
    "    elif(i == 1474620): # 5\n",
    "        adjx = -200000; adjy = -200000;        \n",
    "    elif(i == 643004):  # 8\n",
    "        adjx = 0; adjy = -200000;\n",
    "    elif(i == 1445525): # 9\n",
    "        adjx = -200000; adjy = -250000;       \n",
    "    elif(i == 2101843): # 10\n",
    "        adjx = -250000; adjy = -350000;\n",
    "        \n",
    "    if(lrgfires_00_20.loc[i]['Year'] < 2010):\n",
    "        textclr = '#1e3bfa'\n",
    "    else:\n",
    "        textclr = '#e6020e'\n",
    "               \n",
    "    plt.text(x[cnti]+35000+adjx, y[cnti]+35000+adjy,\n",
    "             str(cnti+1), color=textclr, fontsize=9)\n",
    "    cnti += 1\n",
    "plt.show()"
   ]
  },
  {
   "cell_type": "markdown",
   "id": "d64f3c35-5748-4b59-8173-1ff83a51c221",
   "metadata": {},
   "source": [
    "## Comparing wildfire occurences in Alaska and the Continential U.S.A.\n",
    "\n",
    "Alaska is unique in this dataset since it is physically separated from the rest of the contiguous United States. Thus, I wished to look at AK and the Con. U.S. individually, to observe the effects of this geographic separation."
   ]
  },
  {
   "cell_type": "code",
   "execution_count": null,
   "id": "d79d72ed",
   "metadata": {
    "jupyter": {
     "source_hidden": true
    },
    "tags": [
     "hide-input"
    ]
   },
   "outputs": [],
   "source": [
    "# Create new dataframe based on latitude and longitude cuts\n",
    "\n",
    "# Continental U.S.\n",
    "conUS = df[(df['LATITUDE'] > 23) & (df['LATITUDE'] < 50) &\n",
    "            (df['LONGITUDE'] > -130)]\n",
    "\n",
    "# Alaska\n",
    "AK = df[df['LATITUDE'] > 50]\n",
    "\n",
    "conUS_00_10 = conUS[(conUS['FIRE_YEAR'] >= 2000) & (conUS['FIRE_YEAR'] < 2010)]\n",
    "conUS_10_20 = conUS[(conUS['FIRE_YEAR'] >= 2010) & (conUS['FIRE_YEAR'] < 2020)]\n",
    "conUS_00_20 = conUS[(conUS['FIRE_YEAR'] >= 2000) & (conUS['FIRE_YEAR'] < 2020)]\n",
    "\n",
    "conUS = conUS.loc[(conUS['FIRE_SIZE'] >= 100), ['NWCG_GENERAL_CAUSE','FIRE_YEAR','FIRE_SIZE',\n",
    "                                           'DISCOVERY_TIME','FIRE_SIZE_CLASS',\n",
    "                                           'LONGITUDE','LATITUDE']]\n",
    "\n",
    "AK_00_10 = AK[(AK['FIRE_YEAR'] >= 2000) & (AK['FIRE_YEAR'] < 2010)]\n",
    "AK_10_20 = AK[(AK['FIRE_YEAR'] >= 2010) & (AK['FIRE_YEAR'] < 2020)]\n",
    "AK_00_20 = AK[(AK['FIRE_YEAR'] >= 2000) & (AK['FIRE_YEAR'] < 2020)]\n",
    "\n",
    "AK = AK.loc[(AK['FIRE_SIZE'] >= 100), ['NWCG_GENERAL_CAUSE','FIRE_YEAR','FIRE_SIZE',\n",
    "                                           'DISCOVERY_TIME','FIRE_SIZE_CLASS',\n",
    "                                           'LONGITUDE','LATITUDE']]"
   ]
  },
  {
   "cell_type": "markdown",
   "id": "41f9f4d2-41c5-4e09-b8bd-b862753cea0b",
   "metadata": {},
   "source": [
    "Looking at the same statistical properties as before, but split geographically this time, we see the data for the continental U.S. follow similar trends to the country-wide data, where the mean, median and sum follow gentle upwards trends, while the total number of fires does not.\n",
    "\n",
    "In Alaska, the story is different. There is no obvious trend in any direction for the data. There are notable peaks above a relatively flat baseline, denoting years of heavy fire presence: 2004, 2005, 2009, 2015. Referencing the table and map from the previous section, all of the 4th, 7th, and 9th largest fires from the last two decades occured in 2004 in Alaska."
   ]
  },
  {
   "cell_type": "code",
   "execution_count": null,
   "id": "d39606b4",
   "metadata": {
    "jupyter": {
     "source_hidden": true
    },
    "tags": [
     "hide-input"
    ]
   },
   "outputs": [],
   "source": [
    "med_cUS, mean_cUS, sum_cUS, cnt_cUS = compute_firesize_overtime(conUS)\n",
    "med_AK,  mean_AK,  sum_AK,  cnt_AK  = compute_firesize_overtime(AK)\n",
    "\n",
    "pltrs.plot_firesize_overtime(med_cUS, mean_cUS, sum_cUS, cnt_cUS,\n",
    "                      \"Statistical quantities of U.S. wildfire sample over time (Con. U.S.)\")\n",
    "pltrs.plot_firesize_overtime(med_AK,  mean_AK,  sum_AK,  cnt_AK,\n",
    "                      \"Statistical quantities of U.S. wildfire sample over time (Alaska)\")"
   ]
  },
  {
   "cell_type": "markdown",
   "id": "1ed6e76f-ea06-4026-8048-5421d3ccb435",
   "metadata": {},
   "source": [
    "Below I split the sum of fire damage over time by class, as before, and compare each region (right panels) to the country-wide data (left panels). As above, the con. U.S. follows a similar trend to the national data, where the G-Class fires exhibit the most dramatic growing trend.\n",
    "\n",
    "Again, the Alaska data has no strong trend, but the peaks from the above figures are especially clear, now that the data have been normalized to the mean from the time period. The worst years had over 5 times (2004) and nearly 4 times (2015) as much total surface area of wildfires as the average.\n"
   ]
  },
  {
   "cell_type": "code",
   "execution_count": null,
   "id": "1c206571",
   "metadata": {
    "jupyter": {
     "source_hidden": true
    },
    "tags": [
     "hide-input"
    ]
   },
   "outputs": [],
   "source": [
    "pltrs.plot_firesizeclass_2frame(conUS, df_lrg, \"Con. U.S.\", size_classes)\n",
    "pltrs.plot_firesizeclass_2frame(AK, df_lrg, \"Alaska\", size_classes)"
   ]
  },
  {
   "cell_type": "markdown",
   "id": "8a440caf-4397-4ca3-9da2-cea3d56d50b6",
   "metadata": {},
   "source": [
    "Finally, I look at the spatial distribution of wildfire damage across the con. U.S. and Alaska. Here, each fire (above 100 acres) has been accumulated in (roughly) hexagon-shaped bins, and the colour of the bin represents how much total wildfire (in terms of acres affected) was present in the location represented by the hexagon bin. The first row is for data from \\[2000-2009\\], the second row from \\[2010-2019\\], and the third row presents the difference between the two, as a percent of the sum of the total wildfire area from \\[2000-2009\\].\n",
    "\n",
    "On these plots, it is obvious the most-affected area of the continental U.S. are the west coast, western interior, north Texas, and Florida. In Alaska, it is primarily the northern interior that is affected by fire. The previously mentioned intense fires between \\[2000-2009\\] in Alaska are present in the strong red colours in the upper right panel, and the strong blue colours in the lower right. The latter demonstrates that the \\[2000-2009\\] fires in the region were more intense than the fires that occured from \\[2010-2019\\].\n",
    "\n",
    "The percent difference plot for the continentual U.S. shows that most regions in the west experienced an increase in wildfire activity from \\[2010-2019\\] compared to \\[2000-2009\\]. There are a few regions coloured blue, but most of the map is shaded red. Overall, the midwest and east coast regions are much less affected by wildfires, and are also not experiencing a noticeable shift in fire activity."
   ]
  },
  {
   "cell_type": "code",
   "execution_count": null,
   "id": "f01a4362",
   "metadata": {
    "jupyter": {
     "source_hidden": true
    },
    "tags": [
     "hide-input"
    ]
   },
   "outputs": [],
   "source": [
    "# lat & long pairs for the lower left and upper right corners, respectively\n",
    "cUS_corners = [-120, 18, -62, 50];\n",
    "AK_corners = [-170, 52, -105, 65]\n",
    "\n",
    "# centering lat. and long.\n",
    "cUS_ll0 = [40, -95]\n",
    "AK_ll0 = [62.5, -155]\n",
    "\n",
    "# gridsize argument to hexbin for each data set\n",
    "# Manually adjusted until land per hex is roughly equal in each\n",
    "# map, see prints at the bottom of the cell\n",
    "cUS_hexgrid = [48,16]; AK_hexgrid = [40,12]; AK_hexgrid2 = [29,12];\n",
    "cblimits = [100,1000000]\n",
    "cblimits_diff = [-0.05, 0.05]\n",
    "\n",
    "fig, axs = plt.subplots(3,2, figsize=[7,8])\n",
    "plt.subplots_adjust(wspace = 0.1, hspace=0.05)\n",
    "\n",
    "bColourbar = True\n",
    "plt.axes(axs[0,0])\n",
    "norm = 10 # normalization: 10 years and 1000,to get data as 1000's of acres per annum.\n",
    "hex_cUS_00_10 = pltrs.plot_hexbin_frame( conUS_00_10, norm,\n",
    "    cUS_corners, cUS_ll0, cUS_hexgrid,\n",
    "    bColourbar, cblimits)\n",
    "plt.ylabel('[2000-2009]', fontsize=14)\n",
    "\n",
    "bColourbar = False\n",
    "plt.axes(axs[0,1])\n",
    "hex_AK_00_10 = pltrs.plot_hexbin_frame( AK_00_10, norm,\n",
    "    AK_corners, AK_ll0, AK_hexgrid,\n",
    "    bColourbar, cblimits)\n",
    "\n",
    "\"\"\"\n",
    "# Check that the sum of hexbin 2D histogram values equals\n",
    "# the sum of the FIRE_SIZE from the raw data\n",
    "# From this print I caught that the default function hexbin()\n",
    "# uses to ammalgamate given colour values is mean, not sum!\n",
    "print(\"sum check:\", AK_00_10['FIRE_SIZE'].sum()/norm,\n",
    "      np.sum(hex_AK_00_10.get_array()))\n",
    "\"\"\"\n",
    "\n",
    "plt.axes(axs[1,0])\n",
    "hex_cUS_10_20 = pltrs.plot_hexbin_frame( conUS_10_20, norm,\n",
    "    cUS_corners, cUS_ll0, cUS_hexgrid,\n",
    "    bColourbar, cblimits)\n",
    "plt.ylabel('[2010-2019]', fontsize=14)\n",
    "\n",
    "plt.axes(axs[1,1])\n",
    "hex_AK_10_20 = pltrs.plot_hexbin_frame( AK_10_20, norm,\n",
    "    AK_corners, AK_ll0, AK_hexgrid2,\n",
    "    bColourbar, cblimits)\n",
    "\n",
    "bColourbar = True\n",
    "plt.axes(axs[2,0])\n",
    "\n",
    "norm = conUS_00_10['FIRE_SIZE'].sum()\n",
    "#norm = 20*np.sum(hex_cUS_00_10.get_array())\n",
    "# 20 years, and then the sum of all fires from '00-'09, to get % change\n",
    "hdiff_cUS = pltrs.plot_hexbin_frame_diff( conUS_00_20, norm,\n",
    "    cUS_corners, cUS_ll0, cUS_hexgrid,\n",
    "    bColourbar, cblimits_diff)\n",
    "\n",
    "bColourbar = False\n",
    "plt.axes(axs[2,1])\n",
    "norm = AK_00_10['FIRE_SIZE'].sum()\n",
    "hdiff_AK = pltrs.plot_hexbin_frame_diff( AK_00_20, norm,\n",
    "    AK_corners, AK_ll0, AK_hexgrid,\n",
    "    bColourbar, cblimits_diff)\n",
    "\n",
    "\"\"\"\n",
    "AK_area = 0.663 # Million sq. mi.\n",
    "cUS_area = 3.119 # Million sq. mi.\n",
    "print(\"Hex and Area ratios:\")\n",
    "print(\"Land Area: {:.3f} ; Con. US.: {:.3f} ; Alaska(1): {:.3f}; Alaska(2): {:.3f}\".\n",
    "      format( cUS_area/AK_area,\n",
    "    hex_cUS_00_10.get_array().shape[0]/hex_cUS_10_20.get_array().shape[0],\n",
    "    hex_cUS_00_10.get_array().shape[0]/hex_AK_00_10.get_array().shape[0],\n",
    "    hex_cUS_00_10.get_array().shape[0]/hex_AK_10_20.get_array().shape[0]))\n",
    "# Wanted to confirm the hexes in both plots represent roughly the same area\n",
    "# Checking that ratio of land area is (roughly) same to ratio of number of hexes\n",
    "# Played with the hex grid variables until this was true\n",
    "# It's not perfect; not all hexes are the same size, clearly\n",
    "\"\"\"\n",
    "\n",
    "plt.show()"
   ]
  }
 ],
 "metadata": {
  "kernelspec": {
   "display_name": "Python 3 (ipykernel)",
   "language": "python",
   "name": "python3"
  },
  "language_info": {
   "codemirror_mode": {
    "name": "ipython",
    "version": 3
   },
   "file_extension": ".py",
   "mimetype": "text/x-python",
   "name": "python",
   "nbconvert_exporter": "python",
   "pygments_lexer": "ipython3",
   "version": "3.9.13"
  }
 },
 "nbformat": 4,
 "nbformat_minor": 5
}
